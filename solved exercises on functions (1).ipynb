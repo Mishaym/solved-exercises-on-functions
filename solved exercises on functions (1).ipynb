{
 "cells": [
  {
   "cell_type": "code",
   "execution_count": 1,
   "id": "09bac45e-16ae-4ed7-b706-28f4dfe789dd",
   "metadata": {},
   "outputs": [
    {
     "name": "stdout",
     "output_type": "stream",
     "text": [
      "Hello Mishaym, the current time is 2024-11-28 19:15:35.360529.\n"
     ]
    }
   ],
   "source": [
    "# Q1 Simple Function\n",
    "import datetime\n",
    "def greet_with_time(name):\n",
    "    current_time=datetime.datetime.now()\n",
    "    print(f\"Hello {name}, the current time is {current_time}.\")\n",
    "greet_with_time(\"Mishaym\")"
   ]
  },
  {
   "cell_type": "code",
   "execution_count": 3,
   "id": "2c342d7d-2513-421d-9d29-09e583cac487",
   "metadata": {},
   "outputs": [
    {
     "name": "stdout",
     "output_type": "stream",
     "text": [
      "35.666666666666664\n"
     ]
    }
   ],
   "source": [
    "# Q2 Function with Multiple Parameters\n",
    "def calculate_average(num1,num2,num3):\n",
    "    average=(num1+num2+num3)/3\n",
    "    return average\n",
    "result=calculate_average(34,35,38)\n",
    "print(result)"
   ]
  },
  {
   "cell_type": "code",
   "execution_count": 7,
   "id": "eb76b5d3-49ef-46b7-9f8a-955be2bb9491",
   "metadata": {},
   "outputs": [
    {
     "name": "stdout",
     "output_type": "stream",
     "text": [
      "495.0\n"
     ]
    }
   ],
   "source": [
    "# Q3 Default Argument\n",
    "def calculate_discount(price, percentage):\n",
    "    discount=price-(price*percentage)\n",
    "    return discount\n",
    "price=calculate_discount(550,10/100)\n",
    "print(price)"
   ]
  },
  {
   "cell_type": "code",
   "execution_count": 9,
   "id": "2be9ee9b-ba74-4871-9394-c6eec888e31f",
   "metadata": {},
   "outputs": [
    {
     "name": "stdout",
     "output_type": "stream",
     "text": [
      "Name: Mishaym\n",
      "Age: 19\n",
      "City: Lahore\n"
     ]
    }
   ],
   "source": [
    "# Q4 Keyword Arguments\n",
    "def print_info(name,age,city):\n",
    "    print(f\"Name: {name}\")\n",
    "    print(f\"Age: {age}\")\n",
    "    print(f\"City: {city}\")\n",
    "print_info(name=\"Mishaym\",age=19,city=\"Lahore\")"
   ]
  },
  {
   "cell_type": "code",
   "execution_count": 11,
   "id": "7b12dafc-997e-44a7-98ee-876e46a54690",
   "metadata": {},
   "outputs": [
    {
     "name": "stdout",
     "output_type": "stream",
     "text": [
      "89\n"
     ]
    }
   ],
   "source": [
    "# Q5 Variable-Length Arguments\n",
    "def find_max(*num):\n",
    "    value=max(num)\n",
    "    return value\n",
    "maximun_value=find_max(34,89,76,56)\n",
    "print(maximun_value)"
   ]
  },
  {
   "cell_type": "code",
   "execution_count": 13,
   "id": "e4e6c87c-6015-4f8e-aa80-0bd44ab5c743",
   "metadata": {},
   "outputs": [
    {
     "name": "stdout",
     "output_type": "stream",
     "text": [
      "1307674368000\n"
     ]
    }
   ],
   "source": [
    "# Q6 Recursive Function\n",
    "def factorial(n):\n",
    "    if n<0:\n",
    "        print(\"Factorial not defined for negative number.\")\n",
    "    elif n==0 or n==1:\n",
    "        return 1\n",
    "    else:\n",
    "        return n*factorial(n-1)\n",
    "result=factorial(15)\n",
    "print(result)"
   ]
  },
  {
   "cell_type": "code",
   "execution_count": 15,
   "id": "79cb9bc7-e633-458c-a27b-7e6a0a73d878",
   "metadata": {},
   "outputs": [
    {
     "name": "stdout",
     "output_type": "stream",
     "text": [
      "[8, 27, 125, 343, 1331]\n"
     ]
    }
   ],
   "source": [
    "# Q7 Function as an Argument\n",
    "def apply_function(func, numbers):\n",
    "    list=[]\n",
    "    for num in numbers:\n",
    "        data=func(num)\n",
    "        list.append(data)\n",
    "    return list\n",
    "def cube(i):\n",
    "    return i**3\n",
    "numbers=[2,3,5,7,11]\n",
    "numbers_cubes=apply_function(cube, numbers)\n",
    "print(numbers_cubes)"
   ]
  },
  {
   "cell_type": "code",
   "execution_count": 17,
   "id": "897f4bf8-532f-4c0d-bef7-81e5a55814a9",
   "metadata": {},
   "outputs": [
    {
     "name": "stdout",
     "output_type": "stream",
     "text": [
      "49\n"
     ]
    }
   ],
   "source": [
    "# Q8 Lambda Function\n",
    "square = lambda x: x ** 2\n",
    "result=square(7)\n",
    "print(result)"
   ]
  },
  {
   "cell_type": "code",
   "execution_count": null,
   "id": "d999dd79-fd96-4a2e-9d95-e1ff15a98211",
   "metadata": {},
   "outputs": [],
   "source": []
  }
 ],
 "metadata": {
  "kernelspec": {
   "display_name": "Python 3 (ipykernel)",
   "language": "python",
   "name": "python3"
  },
  "language_info": {
   "codemirror_mode": {
    "name": "ipython",
    "version": 3
   },
   "file_extension": ".py",
   "mimetype": "text/x-python",
   "name": "python",
   "nbconvert_exporter": "python",
   "pygments_lexer": "ipython3",
   "version": "3.12.7"
  }
 },
 "nbformat": 4,
 "nbformat_minor": 5
}
